{
  "nbformat": 4,
  "nbformat_minor": 0,
  "metadata": {
    "colab": {
      "name": "Summer Olympics.ipynb",
      "provenance": [],
      "collapsed_sections": []
    },
    "kernelspec": {
      "display_name": "Python 3",
      "name": "python3"
    },
    "language_info": {
      "name": "python"
    }
  },
  "cells": [
    {
      "cell_type": "markdown",
      "metadata": {
        "id": "Wlah_Hsx88os"
      },
      "source": [
        "# Summer Olympics Data Analysis Assignment"
      ]
    },
    {
      "cell_type": "code",
      "metadata": {
        "id": "VX5uJO5hjAS5"
      },
      "source": [
        "import pandas as pd\n",
        "import numpy as np\n",
        "import matplotlib.pyplot as plt"
      ],
      "execution_count": 2,
      "outputs": []
    },
    {
      "cell_type": "code",
      "metadata": {
        "id": "B89YVoFRjXxz"
      },
      "source": [
        "df = pd.read_csv('Summer.csv')"
      ],
      "execution_count": 3,
      "outputs": []
    },
    {
      "cell_type": "markdown",
      "metadata": {
        "id": "s1_KPqsOadcL"
      },
      "source": [
        "### 1. In how many cities Summer Olympics is held so far?"
      ]
    },
    {
      "cell_type": "code",
      "metadata": {
        "colab": {
          "base_uri": "https://localhost:8080/",
          "height": 490
        },
        "id": "xmf-evETlpZZ",
        "outputId": "62b3e87b-3c03-446d-dd84-6c4be9e0a6e4"
      },
      "source": [
        "data = []\n",
        "\n",
        "for city in df['City'].unique():\n",
        "    data.append([city , len(df[df['City']  == city])])\n",
        "    \n",
        "print(f'In {len(data)} cities Summer Olympics are held so far.\\n')\n",
        "pd.DataFrame(data,columns = ['city','freq']).sort_values(by='freq', ascending=False).plot(x = 'city', y = 'freq', kind = 'bar', figsize = (10,5))"
      ],
      "execution_count": 5,
      "outputs": [
        {
          "output_type": "stream",
          "name": "stdout",
          "text": [
            "In 22 cities Summer Olympics are held so far.\n",
            "\n"
          ]
        },
        {
          "output_type": "execute_result",
          "data": {
            "text/plain": [
              "<matplotlib.axes._subplots.AxesSubplot at 0x7fdf9ce1bed0>"
            ]
          },
          "metadata": {},
          "execution_count": 5
        },
        {
          "output_type": "display_data",
          "data": {
            "image/png": "[encoded data removed]",
            "text/plain": [
              "<Figure size 720x360 with 1 Axes>"
            ]
          },
          "metadata": {
            "needs_background": "light"
          }
        }
      ]
    },
    {
      "cell_type": "markdown",
      "metadata": {
        "id": "Fy5AvU-ubUtk"
      },
      "source": [
        "### 2. Which sport is having most number of Gold Medals so far? (Top 5)"
      ]
    },
    {
      "cell_type": "code",
      "metadata": {
        "colab": {
          "base_uri": "https://localhost:8080/",
          "height": 521
        },
        "id": "teiCgtj0oH4-",
        "outputId": "785bd5af-604b-43ab-dd5e-6f0a84472c08"
      },
      "source": [
        "df1 = df\n",
        "df1 = df1.loc[lambda df1: df1['Medal'] == 'Gold']\n",
        "data = []\n",
        "for sport in df1['Sport'].unique():\n",
        "    data.append([sport , len(df1[df1['Sport']  == sport])])\n",
        "data.sort(key = lambda x: x[1])\n",
        "data.reverse()\n",
        "print('The following sports have won most number of Gold Medals:')\n",
        "for i in range(5):\n",
        "  print(f'{i+1}. {data[i][0]} have won {data[i][1]} gold Medals.')\n",
        "print()\n",
        "pd.DataFrame(data,columns = ['sport','freq']).sort_values(by='freq', ascending=False).head().plot(x = 'sport', y = 'freq', kind = 'bar', figsize = (5,5))"
      ],
      "execution_count": 60,
      "outputs": [
        {
          "output_type": "stream",
          "name": "stdout",
          "text": [
            "The following sports have won most number of Gold Medals:\n",
            "1. Aquatics have won 1421 gold Medals.\n",
            "2. Athletics have won 1215 gold Medals.\n",
            "3. Rowing have won 890 gold Medals.\n",
            "4. Gymnastics have won 820 gold Medals.\n",
            "5. Fencing have won 552 gold Medals.\n",
            "\n"
          ]
        },
        {
          "output_type": "execute_result",
          "data": {
            "text/plain": [
              "<matplotlib.axes._subplots.AxesSubplot at 0x7fdf9af344d0>"
            ]
          },
          "metadata": {},
          "execution_count": 60
        },
        {
          "output_type": "display_data",
          "data": {
            "image/png": "[encoded data removed]",
            "text/plain": [
              "<Figure size 360x360 with 1 Axes>"
            ]
          },
          "metadata": {
            "needs_background": "light"
          }
        }
      ]
    },
    {
      "cell_type": "markdown",
      "metadata": {
        "id": "is3yTC6QbcDn"
      },
      "source": [
        "### 3. Which sport is having most number of medals so far? (Top 5)"
      ]
    },
    {
      "cell_type": "code",
      "metadata": {
        "colab": {
          "base_uri": "https://localhost:8080/",
          "height": 521
        },
        "id": "nNJih9U1h_Si",
        "outputId": "85cd6813-1e1f-47ff-d851-9e2ca21c3ac2"
      },
      "source": [
        "data = []\n",
        "df1 = df\n",
        "for sport in df1['Sport'].unique():\n",
        "  df1 = df\n",
        "  df1 = df1.loc[lambda df1: df1['Sport'] == sport]\n",
        "  a = df1.count()\n",
        "  data.append([sport, a[0]])\n",
        "data.sort(key = lambda x: x[1])\n",
        "data.reverse()\n",
        "print('The following sports have won most number of Medals:')\n",
        "for i in range(5):\n",
        "  print(f'{i+1}. {data[i][0]} have won {data[i][1]} Medals.')\n",
        "print()\n",
        "pd.DataFrame(data,columns = ['sport','freq']).sort_values(by='freq', ascending=False).head().plot(x = 'sport', y = 'freq', kind = 'bar', figsize = (5,5))"
      ],
      "execution_count": 61,
      "outputs": [
        {
          "output_type": "stream",
          "name": "stdout",
          "text": [
            "The following sports have won most number of Medals:\n",
            "1. Aquatics have won 4170 Medals.\n",
            "2. Athletics have won 3638 Medals.\n",
            "3. Rowing have won 2667 Medals.\n",
            "4. Gymnastics have won 2307 Medals.\n",
            "5. Fencing have won 1613 Medals.\n",
            "\n"
          ]
        },
        {
          "output_type": "execute_result",
          "data": {
            "text/plain": [
              "<matplotlib.axes._subplots.AxesSubplot at 0x7fdf9ae63310>"
            ]
          },
          "metadata": {},
          "execution_count": 61
        },
        {
          "output_type": "display_data",
          "data": {
            "image/png": "[encoded data removed]",
            "text/plain": [
              "<Figure size 360x360 with 1 Axes>"
            ]
          },
          "metadata": {
            "needs_background": "light"
          }
        }
      ]
    },
    {
      "cell_type": "markdown",
      "metadata": {
        "id": "iQ0CLLV4blW8"
      },
      "source": [
        "### 4. Which player has won most number of medals? (Top 5)"
      ]
    },
    {
      "cell_type": "code",
      "metadata": {
        "colab": {
          "base_uri": "https://localhost:8080/",
          "height": 566
        },
        "id": "pBv2rCgxmmRF",
        "outputId": "60cb3469-4c86-4b4c-a5db-a6da12a192d6"
      },
      "source": [
        "data = []\n",
        "df1 = df\n",
        "for athlete in df1['Athlete'].unique():\n",
        "  df1 = df\n",
        "  df1 = df1.loc[lambda df1: df1['Athlete'] == athlete]\n",
        "  a = df1.count()\n",
        "  data.append([athlete, a[0]])\n",
        "data.sort(key = lambda x: x[1])\n",
        "data.reverse()\n",
        "print('The following players have won most number of Medals:')\n",
        "for i in range(5):\n",
        "  print(f'{i+1}. {data[i][0]} have won {data[i][1]} Medals.')\n",
        "print()\n",
        "pd.DataFrame(data,columns = ['athlete','freq']).sort_values(by='freq', ascending=False).head().plot(x = 'athlete', y = 'freq', kind = 'bar', figsize = (5,5))"
      ],
      "execution_count": 62,
      "outputs": [
        {
          "output_type": "stream",
          "name": "stdout",
          "text": [
            "The following players have won most number of Medals:\n",
            "1. PHELPS, Michael have won 22 Medals.\n",
            "2. LATYNINA, Larisa have won 18 Medals.\n",
            "3. ANDRIANOV, Nikolay have won 15 Medals.\n",
            "4. SHAKHLIN, Boris have won 13 Medals.\n",
            "5. ONO, Takashi have won 13 Medals.\n",
            "\n"
          ]
        },
        {
          "output_type": "execute_result",
          "data": {
            "text/plain": [
              "<matplotlib.axes._subplots.AxesSubplot at 0x7fdf9ae596d0>"
            ]
          },
          "metadata": {},
          "execution_count": 62
        },
        {
          "output_type": "display_data",
          "data": {
            "image/png": "[encoded data removed]",
            "text/plain": [
              "<Figure size 360x360 with 1 Axes>"
            ]
          },
          "metadata": {
            "needs_background": "light"
          }
        }
      ]
    },
    {
      "cell_type": "markdown",
      "metadata": {
        "id": "5FSXQaTBbsMK"
      },
      "source": [
        "### 5. Which player has won most number Gold Medals? (Top 5)"
      ]
    },
    {
      "cell_type": "code",
      "metadata": {
        "colab": {
          "base_uri": "https://localhost:8080/",
          "height": 548
        },
        "id": "2yd-7sTEINk6",
        "outputId": "bab12bab-df82-4f02-99f5-dbab946372e9"
      },
      "source": [
        "df1 = df\n",
        "df1 = df1.loc[lambda df1: df1['Medal'] == 'Gold']\n",
        "data = []\n",
        "for athlete in df1['Athlete'].unique():\n",
        "    data.append([athlete , len(df1[df1['Athlete']  == athlete])])\n",
        "data.sort(key = lambda x: x[1])\n",
        "data.reverse()\n",
        "print('The following players have won most number of Gold Medals:')\n",
        "for i in range(5):\n",
        "  print(f'{i+1}. {data[i][0]} have won {data[i][1]} gold Medals.')\n",
        "print()\n",
        "pd.DataFrame(data,columns = ['athlete','freq']).sort_values(by='freq', ascending=False).head().plot(x = 'athlete', y = 'freq', kind = 'bar', figsize = (5,5))"
      ],
      "execution_count": 64,
      "outputs": [
        {
          "output_type": "stream",
          "name": "stdout",
          "text": [
            "The following players have won most number of Gold Medals:\n",
            "1. PHELPS, Michael have won 18 gold Medals.\n",
            "2. LEWIS, Carl have won 9 gold Medals.\n",
            "3. SPITZ, Mark have won 9 gold Medals.\n",
            "4. LATYNINA, Larisa have won 9 gold Medals.\n",
            "5. NURMI, Paavo have won 9 gold Medals.\n",
            "\n"
          ]
        },
        {
          "output_type": "execute_result",
          "data": {
            "text/plain": [
              "<matplotlib.axes._subplots.AxesSubplot at 0x7fdf9c1ce6d0>"
            ]
          },
          "metadata": {},
          "execution_count": 64
        },
        {
          "output_type": "display_data",
          "data": {
            "image/png": "[encoded data removed]",
            "text/plain": [
              "<Figure size 360x360 with 1 Axes>"
            ]
          },
          "metadata": {
            "needs_background": "light"
          }
        }
      ]
    },
    {
      "cell_type": "markdown",
      "metadata": {
        "id": "l5sYSF--b1I4"
      },
      "source": [
        "### 6. In which year India won first Gold Medal in Summer Olympics?"
      ]
    },
    {
      "cell_type": "code",
      "metadata": {
        "colab": {
          "base_uri": "https://localhost:8080/"
        },
        "id": "Q_0ZxtwJKR19",
        "outputId": "8b27abf2-c995-4a0c-a6bd-1484f24b3f1c"
      },
      "source": [
        "df1 = df\n",
        "df1 = df1.loc[lambda df1: df1['Country'] == 'IND']\n",
        "df1 = df1.loc[lambda df1: df1['Medal'] == 'Gold'] \n",
        "data = []\n",
        "for year in df1['Year'].unique():\n",
        "    data.append(year)\n",
        "data.sort()\n",
        "print(f'In year {data[0]} India won first Gold Medal in Summer olympics.')"
      ],
      "execution_count": null,
      "outputs": [
        {
          "output_type": "stream",
          "name": "stdout",
          "text": [
            "In year 1928 India won first Gold Medal in Summer olympics.\n"
          ]
        }
      ]
    },
    {
      "cell_type": "markdown",
      "metadata": {
        "id": "Hxmh3IoHb8ag"
      },
      "source": [
        "### 7. Which event is most popular in terms of number of players? (Top 5)"
      ]
    },
    {
      "cell_type": "code",
      "metadata": {
        "id": "7vZTHfsIMJVW",
        "colab": {
          "base_uri": "https://localhost:8080/",
          "height": 553
        },
        "outputId": "32771d6c-51a1-41a7-b81d-20a941d27419"
      },
      "source": [
        "data = []\n",
        "df1 = df\n",
        "for event in df1['Event'].unique():\n",
        "  df1 = df\n",
        "  df1 = df1.loc[lambda df1: df1['Event'] == event]\n",
        "  a = df1.count()\n",
        "  data.append([event, a[0]])\n",
        "data.sort(key = lambda x: x[1])\n",
        "data.reverse()\n",
        "print('The following events is most popular in terms of number of players.')\n",
        "for i in range(5):\n",
        "  print(f'{i+1}. {data[i][0]} have {data[i][1]} number of players.')\n",
        "print()\n",
        "pd.DataFrame(data,columns = ['event','freq']).sort_values(by='freq', ascending=False).head().plot(x = 'event', y = 'freq', kind = 'bar', figsize = (5,5))"
      ],
      "execution_count": 66,
      "outputs": [
        {
          "output_type": "stream",
          "name": "stdout",
          "text": [
            "The following events is most popular in terms of number of players.\n",
            "1. Football have 1497 number of players.\n",
            "2. Hockey have 1422 number of players.\n",
            "3. Team Competition have 1147 number of players.\n",
            "4. Basketball have 1012 number of players.\n",
            "5. Handball have 973 number of players.\n",
            "\n"
          ]
        },
        {
          "output_type": "execute_result",
          "data": {
            "text/plain": [
              "<matplotlib.axes._subplots.AxesSubplot at 0x7fdf9ae30690>"
            ]
          },
          "metadata": {},
          "execution_count": 66
        },
        {
          "output_type": "display_data",
          "data": {
            "image/png": "[encoded data removed]",
            "text/plain": [
              "<Figure size 360x360 with 1 Axes>"
            ]
          },
          "metadata": {
            "needs_background": "light"
          }
        }
      ]
    },
    {
      "cell_type": "markdown",
      "metadata": {
        "id": "6MZcyOXecEtD"
      },
      "source": [
        "### 8. Which sport is having most female Gold Medalists? (Top 5)"
      ]
    },
    {
      "cell_type": "code",
      "metadata": {
        "colab": {
          "base_uri": "https://localhost:8080/",
          "height": 521
        },
        "id": "1fo1AoZMJgjK",
        "outputId": "f5176bc6-2135-47da-9473-957088ad74af"
      },
      "source": [
        "df1 = df\n",
        "df1 = df1.loc[lambda df1: df1['Medal'] == 'Gold']\n",
        "df1 = df1.loc[lambda df1: df1['Gender'] == 'Women']\n",
        "data = []\n",
        "for sport in df1['Sport'].unique():\n",
        "    data.append([sport , len(df1[df1['Sport']  == sport])])\n",
        "data.sort(key = lambda x: x[1])\n",
        "data.reverse()\n",
        "print('The following sports have won most number of female Gold Medalists:')\n",
        "for i in range(5):\n",
        "  print(f'{i+1}. {data[i][0]} have won {data[i][1]} gold Medals.')\n",
        "print()\n",
        "pd.DataFrame(data,columns = ['sport','freq']).sort_values(by='freq', ascending=False).head().plot(x = 'sport', y = 'freq', kind = 'bar', figsize = (5,5))"
      ],
      "execution_count": 67,
      "outputs": [
        {
          "output_type": "stream",
          "name": "stdout",
          "text": [
            "The following sports have won most number of female Gold Medalists:\n",
            "1. Aquatics have won 589 gold Medals.\n",
            "2. Athletics have won 389 gold Medals.\n",
            "3. Gymnastics have won 268 gold Medals.\n",
            "4. Rowing have won 217 gold Medals.\n",
            "5. Volleyball have won 166 gold Medals.\n",
            "\n"
          ]
        },
        {
          "output_type": "execute_result",
          "data": {
            "text/plain": [
              "<matplotlib.axes._subplots.AxesSubplot at 0x7fdf9ac65e50>"
            ]
          },
          "metadata": {},
          "execution_count": 67
        },
        {
          "output_type": "display_data",
          "data": {
            "image/png": "[encoded data removed]",
            "text/plain": [
              "<Figure size 360x360 with 1 Axes>"
            ]
          },
          "metadata": {
            "needs_background": "light"
          }
        }
      ]
    }
  ]
}